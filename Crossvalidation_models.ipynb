{
 "cells": [
  {
   "cell_type": "markdown",
   "metadata": {},
   "source": [
    "\n",
    "### This file is a cross validation of the two models Linear Regression and Random Forest. I implemented In R the complete set of models explored for testing purpose. Random forest is the selected model for the predictions on the restaurants score\n",
    "### 20 FOLD CROSS VALIDATION IS USED HERE"
   ]
  },
  {
   "cell_type": "code",
   "execution_count": 1,
   "metadata": {},
   "outputs": [],
   "source": [
    "import pandas as pd\n",
    "import matplotlib.pyplot as plt\n",
    "import numpy as np\n",
    "from sklearn.linear_model import LinearRegression\n",
    "from sklearn.model_selection import cross_val_score\n",
    "from sklearn import metrics\n",
    "from sklearn.model_selection import KFold\n",
    "# Import the model we are using\n",
    "from sklearn.ensemble import RandomForestRegressor"
   ]
  },
  {
   "cell_type": "code",
   "execution_count": 17,
   "metadata": {},
   "outputs": [],
   "source": [
    "my_data=pd.read_csv(\"InspectionsInOrder.csv\")"
   ]
  },
  {
   "cell_type": "code",
   "execution_count": 27,
   "metadata": {},
   "outputs": [],
   "source": [
    "X=my_data.loc[:,'INSPECTION1':'INSPECTION32']"
   ]
  },
  {
   "cell_type": "code",
   "execution_count": 28,
   "metadata": {},
   "outputs": [
    {
     "data": {
      "text/html": [
       "<div>\n",
       "<style scoped>\n",
       "    .dataframe tbody tr th:only-of-type {\n",
       "        vertical-align: middle;\n",
       "    }\n",
       "\n",
       "    .dataframe tbody tr th {\n",
       "        vertical-align: top;\n",
       "    }\n",
       "\n",
       "    .dataframe thead th {\n",
       "        text-align: right;\n",
       "    }\n",
       "</style>\n",
       "<table border=\"1\" class=\"dataframe\">\n",
       "  <thead>\n",
       "    <tr style=\"text-align: right;\">\n",
       "      <th></th>\n",
       "      <th>INSPECTION1</th>\n",
       "      <th>INSPECTION2</th>\n",
       "      <th>INSPECTION3</th>\n",
       "      <th>INSPECTION4</th>\n",
       "      <th>INSPECTION5</th>\n",
       "      <th>INSPECTION6</th>\n",
       "      <th>INSPECTION7</th>\n",
       "      <th>INSPECTION8</th>\n",
       "      <th>INSPECTION9</th>\n",
       "      <th>INSPECTION10</th>\n",
       "      <th>...</th>\n",
       "      <th>INSPECTION23</th>\n",
       "      <th>INSPECTION24</th>\n",
       "      <th>INSPECTION25</th>\n",
       "      <th>INSPECTION26</th>\n",
       "      <th>INSPECTION27</th>\n",
       "      <th>INSPECTION28</th>\n",
       "      <th>INSPECTION29</th>\n",
       "      <th>INSPECTION30</th>\n",
       "      <th>INSPECTION31</th>\n",
       "      <th>INSPECTION32</th>\n",
       "    </tr>\n",
       "  </thead>\n",
       "  <tbody>\n",
       "    <tr>\n",
       "      <th>0</th>\n",
       "      <td>7</td>\n",
       "      <td>7</td>\n",
       "      <td>7</td>\n",
       "      <td>7</td>\n",
       "      <td>7</td>\n",
       "      <td>7</td>\n",
       "      <td>7</td>\n",
       "      <td>7</td>\n",
       "      <td>7</td>\n",
       "      <td>7</td>\n",
       "      <td>...</td>\n",
       "      <td>7</td>\n",
       "      <td>7</td>\n",
       "      <td>7</td>\n",
       "      <td>7</td>\n",
       "      <td>7</td>\n",
       "      <td>5</td>\n",
       "      <td>5</td>\n",
       "      <td>10</td>\n",
       "      <td>10</td>\n",
       "      <td>7</td>\n",
       "    </tr>\n",
       "    <tr>\n",
       "      <th>1</th>\n",
       "      <td>12</td>\n",
       "      <td>12</td>\n",
       "      <td>12</td>\n",
       "      <td>12</td>\n",
       "      <td>12</td>\n",
       "      <td>12</td>\n",
       "      <td>12</td>\n",
       "      <td>12</td>\n",
       "      <td>12</td>\n",
       "      <td>12</td>\n",
       "      <td>...</td>\n",
       "      <td>12</td>\n",
       "      <td>11</td>\n",
       "      <td>13</td>\n",
       "      <td>12</td>\n",
       "      <td>11</td>\n",
       "      <td>12</td>\n",
       "      <td>10</td>\n",
       "      <td>13</td>\n",
       "      <td>10</td>\n",
       "      <td>12</td>\n",
       "    </tr>\n",
       "    <tr>\n",
       "      <th>2</th>\n",
       "      <td>10</td>\n",
       "      <td>10</td>\n",
       "      <td>10</td>\n",
       "      <td>10</td>\n",
       "      <td>10</td>\n",
       "      <td>10</td>\n",
       "      <td>10</td>\n",
       "      <td>10</td>\n",
       "      <td>10</td>\n",
       "      <td>10</td>\n",
       "      <td>...</td>\n",
       "      <td>10</td>\n",
       "      <td>10</td>\n",
       "      <td>10</td>\n",
       "      <td>12</td>\n",
       "      <td>8</td>\n",
       "      <td>10</td>\n",
       "      <td>12</td>\n",
       "      <td>12</td>\n",
       "      <td>10</td>\n",
       "      <td>8</td>\n",
       "    </tr>\n",
       "    <tr>\n",
       "      <th>3</th>\n",
       "      <td>11</td>\n",
       "      <td>11</td>\n",
       "      <td>11</td>\n",
       "      <td>11</td>\n",
       "      <td>11</td>\n",
       "      <td>11</td>\n",
       "      <td>11</td>\n",
       "      <td>11</td>\n",
       "      <td>11</td>\n",
       "      <td>11</td>\n",
       "      <td>...</td>\n",
       "      <td>11</td>\n",
       "      <td>11</td>\n",
       "      <td>11</td>\n",
       "      <td>11</td>\n",
       "      <td>13</td>\n",
       "      <td>8</td>\n",
       "      <td>8</td>\n",
       "      <td>13</td>\n",
       "      <td>13</td>\n",
       "      <td>10</td>\n",
       "    </tr>\n",
       "    <tr>\n",
       "      <th>4</th>\n",
       "      <td>10</td>\n",
       "      <td>10</td>\n",
       "      <td>10</td>\n",
       "      <td>10</td>\n",
       "      <td>10</td>\n",
       "      <td>10</td>\n",
       "      <td>10</td>\n",
       "      <td>10</td>\n",
       "      <td>10</td>\n",
       "      <td>10</td>\n",
       "      <td>...</td>\n",
       "      <td>10</td>\n",
       "      <td>10</td>\n",
       "      <td>10</td>\n",
       "      <td>10</td>\n",
       "      <td>10</td>\n",
       "      <td>10</td>\n",
       "      <td>10</td>\n",
       "      <td>10</td>\n",
       "      <td>10</td>\n",
       "      <td>10</td>\n",
       "    </tr>\n",
       "  </tbody>\n",
       "</table>\n",
       "<p>5 rows × 32 columns</p>\n",
       "</div>"
      ],
      "text/plain": [
       "   INSPECTION1  INSPECTION2  INSPECTION3  INSPECTION4  INSPECTION5  \\\n",
       "0            7            7            7            7            7   \n",
       "1           12           12           12           12           12   \n",
       "2           10           10           10           10           10   \n",
       "3           11           11           11           11           11   \n",
       "4           10           10           10           10           10   \n",
       "\n",
       "   INSPECTION6  INSPECTION7  INSPECTION8  INSPECTION9  INSPECTION10  \\\n",
       "0            7            7            7            7             7   \n",
       "1           12           12           12           12            12   \n",
       "2           10           10           10           10            10   \n",
       "3           11           11           11           11            11   \n",
       "4           10           10           10           10            10   \n",
       "\n",
       "       ...       INSPECTION23  INSPECTION24  INSPECTION25  INSPECTION26  \\\n",
       "0      ...                  7             7             7             7   \n",
       "1      ...                 12            11            13            12   \n",
       "2      ...                 10            10            10            12   \n",
       "3      ...                 11            11            11            11   \n",
       "4      ...                 10            10            10            10   \n",
       "\n",
       "   INSPECTION27  INSPECTION28  INSPECTION29  INSPECTION30  INSPECTION31  \\\n",
       "0             7             5             5            10            10   \n",
       "1            11            12            10            13            10   \n",
       "2             8            10            12            12            10   \n",
       "3            13             8             8            13            13   \n",
       "4            10            10            10            10            10   \n",
       "\n",
       "   INSPECTION32  \n",
       "0             7  \n",
       "1            12  \n",
       "2             8  \n",
       "3            10  \n",
       "4            10  \n",
       "\n",
       "[5 rows x 32 columns]"
      ]
     },
     "execution_count": 28,
     "metadata": {},
     "output_type": "execute_result"
    }
   ],
   "source": [
    "X.head()"
   ]
  },
  {
   "cell_type": "code",
   "execution_count": 29,
   "metadata": {},
   "outputs": [],
   "source": [
    "y=my_data.loc[:,'INSPECTION33']"
   ]
  },
  {
   "cell_type": "code",
   "execution_count": 30,
   "metadata": {},
   "outputs": [
    {
     "data": {
      "text/plain": [
       "0     7\n",
       "1    13\n",
       "2    10\n",
       "3    10\n",
       "4    10\n",
       "Name: INSPECTION33, dtype: int64"
      ]
     },
     "execution_count": 30,
     "metadata": {},
     "output_type": "execute_result"
    }
   ],
   "source": [
    "y.head()"
   ]
  },
  {
   "cell_type": "code",
   "execution_count": 41,
   "metadata": {},
   "outputs": [
    {
     "name": "stdout",
     "output_type": "stream",
     "text": [
      "[-6.22787805e+00 -5.18801580e+00 -5.81296529e+00 -5.65522560e+00\n",
      " -5.89290944e+00 -2.75432616e+01 -6.41564972e+00 -6.35051845e+00\n",
      " -2.11012482e+01 -1.10492994e+03 -5.35857890e+00 -9.86407405e+00\n",
      " -1.30403786e+01 -4.87520802e+00 -4.37456416e+00 -2.85303484e+00\n",
      " -2.46201880e+00 -1.63798032e+00 -5.39814020e-01 -6.05855825e-02]\n"
     ]
    }
   ],
   "source": [
    "# 10-fold cross-validation with all three features\n",
    "lm = LinearRegression()\n",
    "scores = cross_val_score(lm, X, y, cv=20, scoring='neg_mean_squared_error')\n",
    "print(scores)"
   ]
  },
  {
   "cell_type": "code",
   "execution_count": 42,
   "metadata": {},
   "outputs": [
    {
     "name": "stdout",
     "output_type": "stream",
     "text": [
      "[6.22787805e+00 5.18801580e+00 5.81296529e+00 5.65522560e+00\n",
      " 5.89290944e+00 2.75432616e+01 6.41564972e+00 6.35051845e+00\n",
      " 2.11012482e+01 1.10492994e+03 5.35857890e+00 9.86407405e+00\n",
      " 1.30403786e+01 4.87520802e+00 4.37456416e+00 2.85303484e+00\n",
      " 2.46201880e+00 1.63798032e+00 5.39814020e-01 6.05855825e-02]\n"
     ]
    }
   ],
   "source": [
    "# fix the sign of MSE scores\n",
    "mse_scores = -scores\n",
    "print(mse_scores)"
   ]
  },
  {
   "cell_type": "code",
   "execution_count": 43,
   "metadata": {},
   "outputs": [
    {
     "name": "stdout",
     "output_type": "stream",
     "text": [
      "[ 2.49557169  2.27772162  2.41100918  2.37807182  2.42753155  5.24816745\n",
      "  2.53291329  2.5200235   4.5936095  33.24048641  2.31486045  3.14071235\n",
      "  3.61114644  2.20798732  2.09154588  1.6890929   1.56908215  1.27983605\n",
      "  0.73472037  0.24614139]\n"
     ]
    }
   ],
   "source": [
    "# convert from MSE to RMSE\n",
    "rmse_scores = np.sqrt(mse_scores)\n",
    "print(rmse_scores)"
   ]
  },
  {
   "cell_type": "code",
   "execution_count": 44,
   "metadata": {},
   "outputs": [
    {
     "data": {
      "text/plain": [
       "3.9505115661164067"
      ]
     },
     "execution_count": 44,
     "metadata": {},
     "output_type": "execute_result"
    }
   ],
   "source": [
    "# calculate the average RMSE\n",
    "rmse_scores.mean()"
   ]
  },
  {
   "cell_type": "code",
   "execution_count": 51,
   "metadata": {},
   "outputs": [],
   "source": [
    "features=X\n",
    "labels=y"
   ]
  },
  {
   "cell_type": "code",
   "execution_count": 52,
   "metadata": {},
   "outputs": [],
   "source": [
    "# Using Skicit-learn to split data into training and testing sets\n",
    "from sklearn.model_selection import train_test_split\n",
    "# Split the data into training and testing sets\n",
    "train_features, test_features, train_labels, test_labels = train_test_split(features, labels, test_size = 0.25, random_state = 42)"
   ]
  },
  {
   "cell_type": "code",
   "execution_count": 53,
   "metadata": {},
   "outputs": [],
   "source": [
    "# Import the model we are using\n",
    "from sklearn.ensemble import RandomForestRegressor\n",
    "# Instantiate model with 1000 decision trees\n",
    "rf = RandomForestRegressor(n_estimators = 1000, random_state = 42)\n",
    "# Train the model on training data\n",
    "rf.fit(train_features, train_labels);"
   ]
  },
  {
   "cell_type": "code",
   "execution_count": 54,
   "metadata": {},
   "outputs": [
    {
     "name": "stdout",
     "output_type": "stream",
     "text": [
      "Mean Absolute Error: 1.96 SCORE.\n"
     ]
    }
   ],
   "source": [
    "# Use the forest's predict method on the test data\n",
    "predictions = rf.predict(test_features)\n",
    "# Calculate the absolute errors\n",
    "errors = abs(predictions - test_labels)\n",
    "# Print out the mean absolute error (mae)\n",
    "print('Mean Absolute Error:', round(np.mean(errors), 2), 'SCORE.')"
   ]
  },
  {
   "cell_type": "code",
   "execution_count": 62,
   "metadata": {},
   "outputs": [],
   "source": [
    "feature_list = list(features.columns)"
   ]
  },
  {
   "cell_type": "code",
   "execution_count": 63,
   "metadata": {},
   "outputs": [
    {
     "name": "stdout",
     "output_type": "stream",
     "text": [
      "Variable: INSPECTION3          Importance: 0.23\n",
      "Variable: INSPECTION2          Importance: 0.05\n",
      "Variable: INSPECTION9          Importance: 0.05\n",
      "Variable: INSPECTION1          Importance: 0.04\n",
      "Variable: INSPECTION6          Importance: 0.04\n",
      "Variable: INSPECTION28         Importance: 0.04\n",
      "Variable: INSPECTION29         Importance: 0.04\n",
      "Variable: INSPECTION30         Importance: 0.04\n",
      "Variable: INSPECTION31         Importance: 0.04\n",
      "Variable: INSPECTION32         Importance: 0.04\n",
      "Variable: INSPECTION8          Importance: 0.03\n",
      "Variable: INSPECTION15         Importance: 0.03\n",
      "Variable: INSPECTION18         Importance: 0.03\n",
      "Variable: INSPECTION25         Importance: 0.03\n",
      "Variable: INSPECTION26         Importance: 0.03\n",
      "Variable: INSPECTION27         Importance: 0.03\n",
      "Variable: INSPECTION4          Importance: 0.02\n",
      "Variable: INSPECTION5          Importance: 0.02\n",
      "Variable: INSPECTION10         Importance: 0.02\n",
      "Variable: INSPECTION19         Importance: 0.02\n",
      "Variable: INSPECTION23         Importance: 0.02\n",
      "Variable: INSPECTION24         Importance: 0.02\n",
      "Variable: INSPECTION7          Importance: 0.01\n",
      "Variable: INSPECTION11         Importance: 0.01\n",
      "Variable: INSPECTION12         Importance: 0.01\n",
      "Variable: INSPECTION13         Importance: 0.01\n",
      "Variable: INSPECTION14         Importance: 0.01\n",
      "Variable: INSPECTION16         Importance: 0.01\n",
      "Variable: INSPECTION17         Importance: 0.01\n",
      "Variable: INSPECTION20         Importance: 0.01\n",
      "Variable: INSPECTION21         Importance: 0.01\n",
      "Variable: INSPECTION22         Importance: 0.01\n"
     ]
    }
   ],
   "source": [
    "# Get numerical feature importances\n",
    "importances = list(rf.feature_importances_)\n",
    "# List of tuples with variable and importance\n",
    "feature_importances = [(feature, round(importance, 2)) for feature, importance in zip(feature_list, importances)]\n",
    "# Sort the feature importances by most important first\n",
    "feature_importances = sorted(feature_importances, key = lambda x: x[1], reverse = True)\n",
    "# Print out the feature and importances \n",
    "[print('Variable: {:20} Importance: {}'.format(*pair)) for pair in feature_importances];"
   ]
  },
  {
   "cell_type": "code",
   "execution_count": 73,
   "metadata": {},
   "outputs": [
    {
     "data": {
      "image/png": "[encoded data removed]",
      "text/plain": [
       "<Figure size 432x288 with 1 Axes>"
      ]
     },
     "metadata": {},
     "output_type": "display_data"
    }
   ],
   "source": [
    "%matplotlib inline\n",
    "# Set the style\n",
    "plt.style.use('fivethirtyeight')\n",
    "# list of x locations for plotting\n",
    "x_values = list(range(len(importances)))\n",
    "# Make a bar chart\n",
    "plt.bar(x_values, importances, orientation = 'vertical')\n",
    "# Tick labels for x axis\n",
    "plt.xticks(x_values, feature_list, rotation='vertical')\n",
    "# Axis labels and title\n",
    "plt.ylabel('Importance'); plt.xlabel('Variable'); plt.title('Variable Importances');"
   ]
  },
  {
   "cell_type": "code",
   "execution_count": 56,
   "metadata": {},
   "outputs": [
    {
     "name": "stdout",
     "output_type": "stream",
     "text": [
      "[-18.17284447 -13.04764244 -17.36999984 -14.66787823 -14.70175324\n",
      " -15.02285228 -13.10881389 -18.33232927 -18.8776447  -16.49976531\n",
      " -15.05469061 -17.09464548 -17.88413224 -17.26771641 -10.95014886\n",
      " -10.22655485  -9.59559162  -8.19862154  -2.61430679  -0.12173221]\n"
     ]
    }
   ],
   "source": [
    "scores = cross_val_score(rf, X, y, cv=20, scoring='neg_mean_squared_error')\n",
    "print(scores)"
   ]
  },
  {
   "cell_type": "code",
   "execution_count": 59,
   "metadata": {},
   "outputs": [
    {
     "name": "stdout",
     "output_type": "stream",
     "text": [
      "[18.17284447 13.04764244 17.36999984 14.66787823 14.70175324 15.02285228\n",
      " 13.10881389 18.33232927 18.8776447  16.49976531 15.05469061 17.09464548\n",
      " 17.88413224 17.26771641 10.95014886 10.22655485  9.59559162  8.19862154\n",
      "  2.61430679  0.12173221]\n"
     ]
    }
   ],
   "source": [
    "# fix the sign of MSE scores\n",
    "mse_scores = -scores\n",
    "print(mse_scores)"
   ]
  },
  {
   "cell_type": "code",
   "execution_count": 60,
   "metadata": {},
   "outputs": [
    {
     "name": "stdout",
     "output_type": "stream",
     "text": [
      "[4.26296194 3.61215205 4.16773318 3.82986661 3.83428654 3.87593244\n",
      " 3.6206096  4.28162694 4.34484116 4.06199031 3.88003745 4.13456715\n",
      " 4.2289635  4.15544419 3.30910091 3.19789851 3.0976752  2.86332351\n",
      " 1.61688181 0.34890143]\n"
     ]
    }
   ],
   "source": [
    "# convert from MSE to RMSE\n",
    "rmse_scores = np.sqrt(mse_scores)\n",
    "print(rmse_scores)"
   ]
  },
  {
   "cell_type": "code",
   "execution_count": 61,
   "metadata": {},
   "outputs": [
    {
     "data": {
      "text/plain": [
       "3.5362397210559813"
      ]
     },
     "execution_count": 61,
     "metadata": {},
     "output_type": "execute_result"
    }
   ],
   "source": [
    "rmse_scores.mean()"
   ]
  },
  {
   "cell_type": "code",
   "execution_count": null,
   "metadata": {},
   "outputs": [],
   "source": []
  }
 ],
 "metadata": {
  "kernelspec": {
   "display_name": "Python 3",
   "language": "python",
   "name": "python3"
  },
  "language_info": {
   "codemirror_mode": {
    "name": "ipython",
    "version": 3
   },
   "file_extension": ".py",
   "mimetype": "text/x-python",
   "name": "python",
   "nbconvert_exporter": "python",
   "pygments_lexer": "ipython3",
   "version": "3.7.0"
  }
 },
 "nbformat": 4,
 "nbformat_minor": 2
}
