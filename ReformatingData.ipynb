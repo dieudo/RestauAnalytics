{
 "cells": [
  {
   "cell_type": "code",
   "execution_count": 1,
   "metadata": {},
   "outputs": [],
   "source": [
    "import pandas as pd"
   ]
  },
  {
   "cell_type": "code",
   "execution_count": 2,
   "metadata": {},
   "outputs": [
    {
     "name": "stderr",
     "output_type": "stream",
     "text": [
      "/anaconda3/lib/python3.7/site-packages/IPython/core/interactiveshell.py:3020: DtypeWarning: Columns (6) have mixed types. Specify dtype option on import or set low_memory=False.\n",
      "  interactivity=interactivity, compiler=compiler, result=result)\n"
     ]
    }
   ],
   "source": [
    "my_data2=pd.read_csv(\"Restaurants_Dates.csv\")"
   ]
  },
  {
   "cell_type": "code",
   "execution_count": 3,
   "metadata": {},
   "outputs": [
    {
     "data": {
      "text/html": [
       "<div>\n",
       "<style scoped>\n",
       "    .dataframe tbody tr th:only-of-type {\n",
       "        vertical-align: middle;\n",
       "    }\n",
       "\n",
       "    .dataframe tbody tr th {\n",
       "        vertical-align: top;\n",
       "    }\n",
       "\n",
       "    .dataframe thead th {\n",
       "        text-align: right;\n",
       "    }\n",
       "</style>\n",
       "<table border=\"1\" class=\"dataframe\">\n",
       "  <thead>\n",
       "    <tr style=\"text-align: right;\">\n",
       "      <th></th>\n",
       "      <th>CAMIS</th>\n",
       "      <th>DBA</th>\n",
       "      <th>BORO</th>\n",
       "      <th>BUILDING</th>\n",
       "      <th>STREET</th>\n",
       "      <th>ZIPCODE</th>\n",
       "      <th>PHONE</th>\n",
       "      <th>CUISINE.DESCRIPTION</th>\n",
       "      <th>INSPECTION.DATE</th>\n",
       "      <th>ACTION</th>\n",
       "      <th>VIOLATION.CODE</th>\n",
       "      <th>VIOLATION.DESCRIPTION</th>\n",
       "      <th>CRITICAL.FLAG</th>\n",
       "      <th>SCORE</th>\n",
       "      <th>GRADE</th>\n",
       "      <th>GRADE.DATE</th>\n",
       "      <th>RECORD.DATE</th>\n",
       "      <th>INSPECTION.TYPE</th>\n",
       "      <th>Dates</th>\n",
       "    </tr>\n",
       "  </thead>\n",
       "  <tbody>\n",
       "    <tr>\n",
       "      <th>0</th>\n",
       "      <td>30075445</td>\n",
       "      <td>MORRIS PARK BAKE SHOP</td>\n",
       "      <td>BRONX</td>\n",
       "      <td>1007</td>\n",
       "      <td>MORRIS PARK AVE</td>\n",
       "      <td>10462.0</td>\n",
       "      <td>7188924968</td>\n",
       "      <td>Bakery</td>\n",
       "      <td>2/18/16</td>\n",
       "      <td>Violations were cited in the following area(s).</td>\n",
       "      <td>08A</td>\n",
       "      <td>Facility not vermin proof. Harborage or condit...</td>\n",
       "      <td>Not Critical</td>\n",
       "      <td>10.0</td>\n",
       "      <td>A</td>\n",
       "      <td>2/18/16</td>\n",
       "      <td>1/19/19</td>\n",
       "      <td>Cycle Inspection / Initial Inspection</td>\n",
       "      <td>2016-02-18</td>\n",
       "    </tr>\n",
       "    <tr>\n",
       "      <th>1</th>\n",
       "      <td>30075445</td>\n",
       "      <td>MORRIS PARK BAKE SHOP</td>\n",
       "      <td>BRONX</td>\n",
       "      <td>1007</td>\n",
       "      <td>MORRIS PARK AVE</td>\n",
       "      <td>10462.0</td>\n",
       "      <td>7188924968</td>\n",
       "      <td>Bakery</td>\n",
       "      <td>2/18/16</td>\n",
       "      <td>Violations were cited in the following area(s).</td>\n",
       "      <td>04L</td>\n",
       "      <td>Evidence of mice or live mice present in facil...</td>\n",
       "      <td>Critical</td>\n",
       "      <td>10.0</td>\n",
       "      <td>A</td>\n",
       "      <td>2/18/16</td>\n",
       "      <td>1/19/19</td>\n",
       "      <td>Cycle Inspection / Initial Inspection</td>\n",
       "      <td>2016-02-18</td>\n",
       "    </tr>\n",
       "    <tr>\n",
       "      <th>2</th>\n",
       "      <td>30075445</td>\n",
       "      <td>MORRIS PARK BAKE SHOP</td>\n",
       "      <td>BRONX</td>\n",
       "      <td>1007</td>\n",
       "      <td>MORRIS PARK AVE</td>\n",
       "      <td>10462.0</td>\n",
       "      <td>7188924968</td>\n",
       "      <td>Bakery</td>\n",
       "      <td>5/18/17</td>\n",
       "      <td>Violations were cited in the following area(s).</td>\n",
       "      <td>06D</td>\n",
       "      <td>Food contact surface not properly washed, rins...</td>\n",
       "      <td>Critical</td>\n",
       "      <td>7.0</td>\n",
       "      <td>A</td>\n",
       "      <td>5/18/17</td>\n",
       "      <td>1/19/19</td>\n",
       "      <td>Cycle Inspection / Initial Inspection</td>\n",
       "      <td>2017-05-18</td>\n",
       "    </tr>\n",
       "    <tr>\n",
       "      <th>3</th>\n",
       "      <td>30075445</td>\n",
       "      <td>MORRIS PARK BAKE SHOP</td>\n",
       "      <td>BRONX</td>\n",
       "      <td>1007</td>\n",
       "      <td>MORRIS PARK AVE</td>\n",
       "      <td>10462.0</td>\n",
       "      <td>7188924968</td>\n",
       "      <td>Bakery</td>\n",
       "      <td>5/18/17</td>\n",
       "      <td>Violations were cited in the following area(s).</td>\n",
       "      <td>10F</td>\n",
       "      <td>Non-food contact surface improperly constructe...</td>\n",
       "      <td>Not Critical</td>\n",
       "      <td>7.0</td>\n",
       "      <td>A</td>\n",
       "      <td>5/18/17</td>\n",
       "      <td>1/19/19</td>\n",
       "      <td>Cycle Inspection / Initial Inspection</td>\n",
       "      <td>2017-05-18</td>\n",
       "    </tr>\n",
       "    <tr>\n",
       "      <th>4</th>\n",
       "      <td>30075445</td>\n",
       "      <td>MORRIS PARK BAKE SHOP</td>\n",
       "      <td>BRONX</td>\n",
       "      <td>1007</td>\n",
       "      <td>MORRIS PARK AVE</td>\n",
       "      <td>10462.0</td>\n",
       "      <td>7188924968</td>\n",
       "      <td>Bakery</td>\n",
       "      <td>5/11/18</td>\n",
       "      <td>Violations were cited in the following area(s).</td>\n",
       "      <td>10F</td>\n",
       "      <td>Non-food contact surface improperly constructe...</td>\n",
       "      <td>Not Critical</td>\n",
       "      <td>5.0</td>\n",
       "      <td>A</td>\n",
       "      <td>5/11/18</td>\n",
       "      <td>1/19/19</td>\n",
       "      <td>Cycle Inspection / Initial Inspection</td>\n",
       "      <td>2018-05-11</td>\n",
       "    </tr>\n",
       "  </tbody>\n",
       "</table>\n",
       "</div>"
      ],
      "text/plain": [
       "      CAMIS                    DBA   BORO BUILDING           STREET  ZIPCODE  \\\n",
       "0  30075445  MORRIS PARK BAKE SHOP  BRONX     1007  MORRIS PARK AVE  10462.0   \n",
       "1  30075445  MORRIS PARK BAKE SHOP  BRONX     1007  MORRIS PARK AVE  10462.0   \n",
       "2  30075445  MORRIS PARK BAKE SHOP  BRONX     1007  MORRIS PARK AVE  10462.0   \n",
       "3  30075445  MORRIS PARK BAKE SHOP  BRONX     1007  MORRIS PARK AVE  10462.0   \n",
       "4  30075445  MORRIS PARK BAKE SHOP  BRONX     1007  MORRIS PARK AVE  10462.0   \n",
       "\n",
       "        PHONE CUISINE.DESCRIPTION INSPECTION.DATE  \\\n",
       "0  7188924968              Bakery         2/18/16   \n",
       "1  7188924968              Bakery         2/18/16   \n",
       "2  7188924968              Bakery         5/18/17   \n",
       "3  7188924968              Bakery         5/18/17   \n",
       "4  7188924968              Bakery         5/11/18   \n",
       "\n",
       "                                            ACTION VIOLATION.CODE  \\\n",
       "0  Violations were cited in the following area(s).            08A   \n",
       "1  Violations were cited in the following area(s).            04L   \n",
       "2  Violations were cited in the following area(s).            06D   \n",
       "3  Violations were cited in the following area(s).            10F   \n",
       "4  Violations were cited in the following area(s).            10F   \n",
       "\n",
       "                               VIOLATION.DESCRIPTION CRITICAL.FLAG  SCORE  \\\n",
       "0  Facility not vermin proof. Harborage or condit...  Not Critical   10.0   \n",
       "1  Evidence of mice or live mice present in facil...      Critical   10.0   \n",
       "2  Food contact surface not properly washed, rins...      Critical    7.0   \n",
       "3  Non-food contact surface improperly constructe...  Not Critical    7.0   \n",
       "4  Non-food contact surface improperly constructe...  Not Critical    5.0   \n",
       "\n",
       "  GRADE GRADE.DATE RECORD.DATE                        INSPECTION.TYPE  \\\n",
       "0     A    2/18/16     1/19/19  Cycle Inspection / Initial Inspection   \n",
       "1     A    2/18/16     1/19/19  Cycle Inspection / Initial Inspection   \n",
       "2     A    5/18/17     1/19/19  Cycle Inspection / Initial Inspection   \n",
       "3     A    5/18/17     1/19/19  Cycle Inspection / Initial Inspection   \n",
       "4     A    5/11/18     1/19/19  Cycle Inspection / Initial Inspection   \n",
       "\n",
       "        Dates  \n",
       "0  2016-02-18  \n",
       "1  2016-02-18  \n",
       "2  2017-05-18  \n",
       "3  2017-05-18  \n",
       "4  2018-05-11  "
      ]
     },
     "execution_count": 3,
     "metadata": {},
     "output_type": "execute_result"
    }
   ],
   "source": [
    "my_data2.head()"
   ]
  },
  {
   "cell_type": "code",
   "execution_count": 4,
   "metadata": {},
   "outputs": [
    {
     "name": "stdout",
     "output_type": "stream",
     "text": [
      "<class 'pandas.core.frame.DataFrame'>\n",
      "RangeIndex: 385124 entries, 0 to 385123\n",
      "Data columns (total 19 columns):\n",
      "CAMIS                    385124 non-null int64\n",
      "DBA                      384734 non-null object\n",
      "BORO                     385124 non-null object\n",
      "BUILDING                 384884 non-null object\n",
      "STREET                   385120 non-null object\n",
      "ZIPCODE                  379203 non-null float64\n",
      "PHONE                    385121 non-null object\n",
      "CUISINE.DESCRIPTION      385124 non-null object\n",
      "INSPECTION.DATE          385124 non-null object\n",
      "ACTION                   384014 non-null object\n",
      "VIOLATION.CODE           379276 non-null object\n",
      "VIOLATION.DESCRIPTION    377256 non-null object\n",
      "CRITICAL.FLAG            385124 non-null object\n",
      "SCORE                    366070 non-null float64\n",
      "GRADE                    194586 non-null object\n",
      "GRADE.DATE               193010 non-null object\n",
      "RECORD.DATE              385124 non-null object\n",
      "INSPECTION.TYPE          384014 non-null object\n",
      "Dates                    385124 non-null object\n",
      "dtypes: float64(2), int64(1), object(16)\n",
      "memory usage: 55.8+ MB\n"
     ]
    }
   ],
   "source": [
    "my_data2.info()"
   ]
  },
  {
   "cell_type": "code",
   "execution_count": 12,
   "metadata": {},
   "outputs": [],
   "source": [
    "my_data2['Visit'] = my_data2.groupby('CAMIS').cumcount() + 1\n"
   ]
  },
  {
   "cell_type": "code",
   "execution_count": 17,
   "metadata": {},
   "outputs": [
    {
     "data": {
      "text/plain": [
       "1"
      ]
     },
     "execution_count": 17,
     "metadata": {},
     "output_type": "execute_result"
    }
   ],
   "source": [
    "my_data2.Visit.min()"
   ]
  },
  {
   "cell_type": "code",
   "execution_count": 3,
   "metadata": {},
   "outputs": [],
   "source": [
    "my_data3=pd.read_csv(\"UniqueScoredData.csv\")"
   ]
  },
  {
   "cell_type": "code",
   "execution_count": 4,
   "metadata": {},
   "outputs": [],
   "source": [
    "my_data3['Visit'] = my_data3.groupby('CAMIS').cumcount() + 1"
   ]
  },
  {
   "cell_type": "code",
   "execution_count": null,
   "metadata": {},
   "outputs": [],
   "source": []
  },
  {
   "cell_type": "code",
   "execution_count": 7,
   "metadata": {},
   "outputs": [],
   "source": [
    "my_data3.to_csv(\"VisitRestaurants.csv\",index=False)"
   ]
  },
  {
   "cell_type": "code",
   "execution_count": 6,
   "metadata": {},
   "outputs": [
    {
     "data": {
      "text/plain": [
       "33"
      ]
     },
     "execution_count": 6,
     "metadata": {},
     "output_type": "execute_result"
    }
   ],
   "source": [
    "my_data3.Visit.max()"
   ]
  },
  {
   "cell_type": "code",
   "execution_count": 8,
   "metadata": {},
   "outputs": [
    {
     "data": {
      "text/plain": [
       "1"
      ]
     },
     "execution_count": 8,
     "metadata": {},
     "output_type": "execute_result"
    }
   ],
   "source": [
    "my_data3.Visit.min()"
   ]
  },
  {
   "cell_type": "code",
   "execution_count": 9,
   "metadata": {},
   "outputs": [
    {
     "name": "stdout",
     "output_type": "stream",
     "text": [
      "<class 'pandas.core.frame.DataFrame'>\n",
      "RangeIndex: 185869 entries, 0 to 185868\n",
      "Data columns (total 19 columns):\n",
      "CAMIS                    185869 non-null int64\n",
      "DBA                      185869 non-null object\n",
      "BORO                     185869 non-null object\n",
      "BUILDING                 185730 non-null object\n",
      "STREET                   185869 non-null object\n",
      "ZIPCODE                  182885 non-null float64\n",
      "PHONE                    185869 non-null object\n",
      "CUISINE.DESCRIPTION      185869 non-null object\n",
      "INSPECTION.DATE          185869 non-null object\n",
      "ACTION                   185869 non-null object\n",
      "VIOLATION.CODE           185150 non-null object\n",
      "VIOLATION.DESCRIPTION    184865 non-null object\n",
      "CRITICAL.FLAG            185869 non-null object\n",
      "SCORE                    185869 non-null int64\n",
      "GRADE                    185869 non-null object\n",
      "GRADE.DATE               185869 non-null object\n",
      "RECORD.DATE              185869 non-null object\n",
      "INSPECTION.TYPE          185869 non-null object\n",
      "Visit                    185869 non-null int64\n",
      "dtypes: float64(1), int64(3), object(15)\n",
      "memory usage: 26.9+ MB\n"
     ]
    }
   ],
   "source": [
    "my_data3.info()"
   ]
  },
  {
   "cell_type": "code",
   "execution_count": null,
   "metadata": {},
   "outputs": [],
   "source": []
  }
 ],
 "metadata": {
  "kernelspec": {
   "display_name": "Python 3",
   "language": "python",
   "name": "python3"
  },
  "language_info": {
   "codemirror_mode": {
    "name": "ipython",
    "version": 3
   },
   "file_extension": ".py",
   "mimetype": "text/x-python",
   "name": "python",
   "nbconvert_exporter": "python",
   "pygments_lexer": "ipython3",
   "version": "3.7.0"
  }
 },
 "nbformat": 4,
 "nbformat_minor": 2
}
