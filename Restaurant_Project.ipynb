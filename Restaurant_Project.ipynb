{
 "cells": [
  {
   "cell_type": "code",
   "execution_count": 1,
   "metadata": {},
   "outputs": [],
   "source": [
    "import pandas as pd\n",
    "import numpy as np\n",
    "import matplotlib.pyplot as plt\n",
    "import seaborn as sns\n",
    "import pandas as pd\n",
    "import matplotlib.pyplot as plt\n",
    "import seaborn as sns\n",
    "import numpy as np\n",
    "from scipy.stats import norm\n",
    "from sklearn.preprocessing import StandardScaler\n",
    "from scipy import stats\n",
    "import datetime \n",
    "import warnings\n",
    "warnings.filterwarnings('ignore')\n",
    "%matplotlib inline"
   ]
  },
  {
   "cell_type": "code",
   "execution_count": 2,
   "metadata": {},
   "outputs": [],
   "source": [
    "my_data=pd.read_csv(\"DOHMH_New_York_City_Restaurant_Inspection_Results.csv\")"
   ]
  },
  {
   "cell_type": "code",
   "execution_count": 3,
   "metadata": {},
   "outputs": [
    {
     "name": "stdout",
     "output_type": "stream",
     "text": [
      "<class 'pandas.core.frame.DataFrame'>\n",
      "RangeIndex: 385124 entries, 0 to 385123\n",
      "Data columns (total 18 columns):\n",
      "CAMIS                    385124 non-null int64\n",
      "DBA                      384734 non-null object\n",
      "BORO                     385124 non-null object\n",
      "BUILDING                 384884 non-null object\n",
      "STREET                   385120 non-null object\n",
      "ZIPCODE                  379203 non-null float64\n",
      "PHONE                    385121 non-null object\n",
      "CUISINE DESCRIPTION      385124 non-null object\n",
      "INSPECTION DATE          385124 non-null object\n",
      "ACTION                   384014 non-null object\n",
      "VIOLATION CODE           379276 non-null object\n",
      "VIOLATION DESCRIPTION    377256 non-null object\n",
      "CRITICAL FLAG            385124 non-null object\n",
      "SCORE                    366070 non-null float64\n",
      "GRADE                    194586 non-null object\n",
      "GRADE DATE               193010 non-null object\n",
      "RECORD DATE              385124 non-null object\n",
      "INSPECTION TYPE          384014 non-null object\n",
      "dtypes: float64(2), int64(1), object(15)\n",
      "memory usage: 52.9+ MB\n"
     ]
    }
   ],
   "source": [
    "my_data.info()"
   ]
  },
  {
   "cell_type": "code",
   "execution_count": 4,
   "metadata": {},
   "outputs": [
    {
     "data": {
      "text/plain": [
       "array(['A', nan, 'B', 'Not Yet Graded', 'Z', 'P', 'C', 'G'], dtype=object)"
      ]
     },
     "execution_count": 4,
     "metadata": {},
     "output_type": "execute_result"
    }
   ],
   "source": [
    "my_data.GRADE.unique()"
   ]
  },
  {
   "cell_type": "code",
   "execution_count": 5,
   "metadata": {},
   "outputs": [
    {
     "data": {
      "text/plain": [
       "count    366070.000000\n",
       "mean         19.550381\n",
       "std          13.928281\n",
       "min          -1.000000\n",
       "25%          11.000000\n",
       "50%          14.000000\n",
       "75%          25.000000\n",
       "max         156.000000\n",
       "Name: SCORE, dtype: float64"
      ]
     },
     "execution_count": 5,
     "metadata": {},
     "output_type": "execute_result"
    }
   ],
   "source": [
    "my_data.SCORE.describe()"
   ]
  },
  {
   "cell_type": "code",
   "execution_count": 6,
   "metadata": {},
   "outputs": [
    {
     "data": {
      "text/plain": [
       "CAMIS                    False\n",
       "DBA                       True\n",
       "BORO                     False\n",
       "BUILDING                  True\n",
       "STREET                    True\n",
       "ZIPCODE                   True\n",
       "PHONE                     True\n",
       "CUISINE DESCRIPTION      False\n",
       "INSPECTION DATE          False\n",
       "ACTION                    True\n",
       "VIOLATION CODE            True\n",
       "VIOLATION DESCRIPTION     True\n",
       "CRITICAL FLAG            False\n",
       "SCORE                     True\n",
       "GRADE                     True\n",
       "GRADE DATE                True\n",
       "RECORD DATE              False\n",
       "INSPECTION TYPE           True\n",
       "dtype: bool"
      ]
     },
     "execution_count": 6,
     "metadata": {},
     "output_type": "execute_result"
    }
   ],
   "source": [
    "my_data.isna().any()"
   ]
  },
  {
   "cell_type": "markdown",
   "metadata": {},
   "source": [
    "## 1. making sure we retain cases with CAMIS ID, REMOVING ANY EMPTY ENTRY"
   ]
  },
  {
   "cell_type": "code",
   "execution_count": 7,
   "metadata": {},
   "outputs": [
    {
     "data": {
      "text/plain": [
       "CAMIS                    False\n",
       "DBA                       True\n",
       "BORO                     False\n",
       "BUILDING                  True\n",
       "STREET                    True\n",
       "ZIPCODE                   True\n",
       "PHONE                     True\n",
       "CUISINE DESCRIPTION      False\n",
       "INSPECTION DATE          False\n",
       "ACTION                    True\n",
       "VIOLATION CODE            True\n",
       "VIOLATION DESCRIPTION     True\n",
       "CRITICAL FLAG            False\n",
       "SCORE                     True\n",
       "GRADE                     True\n",
       "GRADE DATE                True\n",
       "RECORD DATE              False\n",
       "INSPECTION TYPE           True\n",
       "dtype: bool"
      ]
     },
     "execution_count": 7,
     "metadata": {},
     "output_type": "execute_result"
    }
   ],
   "source": [
    "my_data = my_data[pd.notnull(my_data['CAMIS'])]\n",
    "my_data.isna().any()"
   ]
  },
  {
   "cell_type": "code",
   "execution_count": 8,
   "metadata": {},
   "outputs": [
    {
     "data": {
      "text/plain": [
       "CAMIS                    26963\n",
       "DBA                      21315\n",
       "BORO                         6\n",
       "BUILDING                  7307\n",
       "STREET                    3277\n",
       "ZIPCODE                    223\n",
       "PHONE                    25485\n",
       "CUISINE DESCRIPTION         85\n",
       "INSPECTION DATE           1389\n",
       "ACTION                       5\n",
       "VIOLATION CODE              99\n",
       "VIOLATION DESCRIPTION       91\n",
       "CRITICAL FLAG                3\n",
       "SCORE                      132\n",
       "GRADE                        7\n",
       "GRADE DATE                1296\n",
       "RECORD DATE                  1\n",
       "INSPECTION TYPE             32\n",
       "dtype: int64"
      ]
     },
     "execution_count": 8,
     "metadata": {},
     "output_type": "execute_result"
    }
   ],
   "source": [
    "my_data.nunique()"
   ]
  },
  {
   "cell_type": "markdown",
   "metadata": {},
   "source": [
    "## 2.Best restaurants with score lest than 14"
   ]
  },
  {
   "cell_type": "code",
   "execution_count": 9,
   "metadata": {},
   "outputs": [],
   "source": [
    "#my_data = my_data[my_data.SCORE < 14]\n",
    "#my_data.nunique()"
   ]
  },
  {
   "cell_type": "code",
   "execution_count": 10,
   "metadata": {},
   "outputs": [],
   "source": [
    "#import datetime as dt\n",
    "\n",
    "#print('Most recent inspection:')\n",
    "#print(my_data['INSPECTION DATE'].max())\n",
    "\n",
    "#lastDate = dt.datetime(2017,9,9)\n",
    "#my_data['INSPECTION DATE'] = pd.to_datetime(my_data['INSPECTION DATE'])"
   ]
  },
  {
   "cell_type": "code",
   "execution_count": 11,
   "metadata": {},
   "outputs": [
    {
     "data": {
      "text/html": [
       "<div>\n",
       "<style scoped>\n",
       "    .dataframe tbody tr th:only-of-type {\n",
       "        vertical-align: middle;\n",
       "    }\n",
       "\n",
       "    .dataframe tbody tr th {\n",
       "        vertical-align: top;\n",
       "    }\n",
       "\n",
       "    .dataframe thead th {\n",
       "        text-align: right;\n",
       "    }\n",
       "</style>\n",
       "<table border=\"1\" class=\"dataframe\">\n",
       "  <thead>\n",
       "    <tr style=\"text-align: right;\">\n",
       "      <th></th>\n",
       "      <th>Total</th>\n",
       "      <th>Percent</th>\n",
       "    </tr>\n",
       "  </thead>\n",
       "  <tbody>\n",
       "    <tr>\n",
       "      <th>GRADE DATE</th>\n",
       "      <td>192114</td>\n",
       "      <td>49.883674</td>\n",
       "    </tr>\n",
       "    <tr>\n",
       "      <th>GRADE</th>\n",
       "      <td>190538</td>\n",
       "      <td>49.474455</td>\n",
       "    </tr>\n",
       "    <tr>\n",
       "      <th>SCORE</th>\n",
       "      <td>19054</td>\n",
       "      <td>4.947497</td>\n",
       "    </tr>\n",
       "    <tr>\n",
       "      <th>VIOLATION DESCRIPTION</th>\n",
       "      <td>7868</td>\n",
       "      <td>2.042978</td>\n",
       "    </tr>\n",
       "    <tr>\n",
       "      <th>ZIPCODE</th>\n",
       "      <td>5921</td>\n",
       "      <td>1.537427</td>\n",
       "    </tr>\n",
       "  </tbody>\n",
       "</table>\n",
       "</div>"
      ],
      "text/plain": [
       "                        Total    Percent\n",
       "GRADE DATE             192114  49.883674\n",
       "GRADE                  190538  49.474455\n",
       "SCORE                   19054   4.947497\n",
       "VIOLATION DESCRIPTION    7868   2.042978\n",
       "ZIPCODE                  5921   1.537427"
      ]
     },
     "execution_count": 11,
     "metadata": {},
     "output_type": "execute_result"
    }
   ],
   "source": [
    "# checking missing data in data \n",
    "total = my_data.isnull().sum().sort_values(ascending = False)\n",
    "percent = (my_data.isnull().sum()/my_data.isnull().count()*100).sort_values(ascending = False)\n",
    "missing_data  = pd.concat([total, percent], axis=1, keys=['Total', 'Percent'])\n",
    "missing_data.head()"
   ]
  },
  {
   "cell_type": "code",
   "execution_count": 12,
   "metadata": {},
   "outputs": [
    {
     "data": {
      "text/plain": [
       "Text(0.5, 0, 'Score')"
      ]
     },
     "execution_count": 12,
     "metadata": {},
     "output_type": "execute_result"
    },
    {
     "data": {
      "image/png": "[encoded data removed]",
      "text/plain": [
       "<Figure size 576x288 with 1 Axes>"
      ]
     },
     "metadata": {
      "needs_background": "light"
     },
     "output_type": "display_data"
    }
   ],
   "source": [
    "my_data.SCORE.hist(figsize=(8,4))\n",
    "plt.title(\"histogram the Scores\", fontsize=15)\n",
    "plt.xlabel('Score', fontsize = 10)"
   ]
  },
  {
   "cell_type": "code",
   "execution_count": 13,
   "metadata": {},
   "outputs": [
    {
     "data": {
      "text/plain": [
       "Text(0.5, 1.0, 'Distribution Plot of the Scores')"
      ]
     },
     "execution_count": 13,
     "metadata": {},
     "output_type": "execute_result"
    },
    {
     "data": {
      "image/png": "[encoded data removed]",
      "text/plain": [
       "<Figure size 1080x288 with 1 Axes>"
      ]
     },
     "metadata": {
      "needs_background": "light"
     },
     "output_type": "display_data"
    }
   ],
   "source": [
    "# Have a look at a distribution plot of the Score\n",
    "fig, ax = plt.subplots()\n",
    "fig.set_size_inches(15, 4)\n",
    "sns.distplot(my_data.SCORE.dropna())\n",
    "plt.title(\"Distribution Plot of the Scores\", fontsize=14)"
   ]
  },
  {
   "cell_type": "code",
   "execution_count": 14,
   "metadata": {},
   "outputs": [
    {
     "data": {
      "text/plain": [
       "A                 154161\n",
       "B                  24545\n",
       "C                   7894\n",
       "Z                   4042\n",
       "P                   2361\n",
       "Not Yet Graded      1579\n",
       "G                      4\n",
       "Name: GRADE, dtype: int64"
      ]
     },
     "execution_count": 14,
     "metadata": {},
     "output_type": "execute_result"
    }
   ],
   "source": [
    "my_data.GRADE.value_counts()"
   ]
  },
  {
   "cell_type": "code",
   "execution_count": null,
   "metadata": {},
   "outputs": [],
   "source": [
    "# A look at the histogram of the Grades.\n",
    "my_data.GRADE.hist(figsize = (15, 4))\n",
    "plt.title(\"Histogram of the Grades\", fontsize=14)\n",
    "plt.xlabel('Grades', fontsize = 10)"
   ]
  },
  {
   "cell_type": "code",
   "execution_count": null,
   "metadata": {},
   "outputs": [],
   "source": [
    "# Lets look at scores by grades\n",
    "fig, ax = plt.subplots()\n",
    "fig.set_size_inches(15, 4)\n",
    "sns.boxplot(my_data.SCORE.dropna(), my_data.GRADE)\n",
    "plt.title('Boxplot by Grade', fontsize = 15)"
   ]
  },
  {
   "cell_type": "code",
   "execution_count": null,
   "metadata": {},
   "outputs": [],
   "source": [
    "# Look at whih Boroughs have the highest number of inspections\n",
    "my_data.BORO.value_counts()"
   ]
  },
  {
   "cell_type": "code",
   "execution_count": null,
   "metadata": {},
   "outputs": [],
   "source": [
    "# Here is a look at a histogram of the numbers we just saw above.\n",
    "my_data.BORO.hist(figsize = (15, 4))\n",
    "plt.title('Boxplot of the count of inspections per Borough', fontsize = 15)\n",
    "plt.xlabel('Borough', fontsize = 12)"
   ]
  },
  {
   "cell_type": "code",
   "execution_count": null,
   "metadata": {},
   "outputs": [],
   "source": [
    "# Breakdown scores by borough\n",
    "fig, ax = plt.subplots()\n",
    "fig.set_size_inches(15, 4)\n",
    "sns.boxplot(my_data.SCORE.dropna(), my_data.BORO)\n",
    "plt.title('Boxplot by Borough', fontsize = 15)"
   ]
  },
  {
   "cell_type": "code",
   "execution_count": null,
   "metadata": {},
   "outputs": [],
   "source": [
    "# Contingency table for Grade and Borough\n",
    "boro_grade = pd.crosstab(my_data.GRADE, data.BORO, margins = True)\n",
    "boro_grade"
   ]
  },
  {
   "cell_type": "code",
   "execution_count": null,
   "metadata": {},
   "outputs": [],
   "source": [
    "# Plot of grade by borough\n",
    "pd.crosstab(my_data.BORO, my_data.GRADE).plot(kind=\"bar\", figsize=(15,8), stacked=True)\n",
    "plt.title('Grade Distribution by Borough', fontsize = 15)"
   ]
  },
  {
   "cell_type": "code",
   "execution_count": null,
   "metadata": {},
   "outputs": [],
   "source": [
    "# Test if the grades are independent of the borough\n",
    "boro_grade.columns = [\"BRONX\",\"BROOKLYN\",\"MANHATTAN\", \"QUEENS\", \"STATEN ISLAND\" ,\"All\"]\n",
    "\n",
    "boro_grade.index = [\"A\",\"B\",\"C\",\"Not Yet Graded\",\"P\", \"Z\", \"All\"]\n",
    "\n",
    "observed = boro_grade.ix[0:6,0:5]   # Get table without totals for later use\n",
    "\n",
    "expected =  np.outer(boro_grade[\"All\"][0:6],\n",
    "                     boro_grade.ix[\"All\"][0:5]) / 1000\n",
    "\n",
    "expected = pd.DataFrame(expected)\n",
    "\n",
    "expected.columns = [\"BRONX\",\"BROOKLYN\",\"MANHATTAN\", \"QUEENS\", \"STATEN ISLAND\"]\n",
    "expected.index = [\"A\",\"B\",\"C\",\"Not Yet Graded\",\"P\", \"Z\"]\n",
    "\n",
    "chi_squared_stat = (((observed-expected)**2)/expected).sum().sum()\n",
    "\n",
    "print(\"Chi Squared Stat\")\n",
    "print(chi_squared_stat)\n",
    "\n",
    "crit = stats.chi2.ppf(q = 0.95, # Find the critical value for 95% confidence*\n",
    "                      df = 20)   # (5-1) * (6-1)\n",
    "\n",
    "print(\"Critical value\")\n",
    "print(crit)\n",
    "\n",
    "p_value = 1 - stats.chi2.cdf(x=chi_squared_stat,  # Find the p-value\n",
    "                             df=20)\n",
    "print(\"P value\")\n",
    "print(p_value)\n",
    "\n",
    "stats.chi2_contingency(observed= observed)"
   ]
  },
  {
   "cell_type": "markdown",
   "metadata": {},
   "source": [
    "As expected, given the small p-value, the test result detects a significant relationship between the variables"
   ]
  },
  {
   "cell_type": "code",
   "execution_count": null,
   "metadata": {},
   "outputs": [],
   "source": [
    "my_data['CUISINE DESCRIPTION'].value_counts()"
   ]
  },
  {
   "cell_type": "code",
   "execution_count": null,
   "metadata": {},
   "outputs": [],
   "source": [
    "# Let us look at the scores by cuisine\n",
    "score_cuisine = pd.concat([my_data['CUISINE DESCRIPTION'], my_data['SCORE']], axis=1)\n",
    "f, ax = plt.subplots(figsize=(22, 12))\n",
    "fig = sns.boxplot(x = 'CUISINE DESCRIPTION', y=\"SCORE\", my_data = score_cuisine)\n",
    "plt.xticks(rotation=90);"
   ]
  },
  {
   "cell_type": "code",
   "execution_count": null,
   "metadata": {},
   "outputs": [],
   "source": [
    "my_data.ACTION.value_counts()"
   ]
  },
  {
   "cell_type": "markdown",
   "metadata": {},
   "source": [
    "The most common action taken was citing the violation"
   ]
  },
  {
   "cell_type": "code",
   "execution_count": null,
   "metadata": {},
   "outputs": [],
   "source": [
    "# Histogram of the Action taken\n",
    "my_data.ACTION.hist(figsize = (15,8))\n",
    "plt.title('Histogram of the Action taken', fontsize = 15)\n",
    "plt.xlabel('Action', fontsize = 12)\n",
    "plt.xticks(rotation=90)"
   ]
  },
  {
   "cell_type": "code",
   "execution_count": null,
   "metadata": {},
   "outputs": [],
   "source": [
    "data['CRITICAL FLAG'].value_counts()"
   ]
  },
  {
   "cell_type": "markdown",
   "metadata": {},
   "source": [
    "Critical violations are those most likely to contribute to foodborne illness and most cases were critical"
   ]
  },
  {
   "cell_type": "code",
   "execution_count": null,
   "metadata": {},
   "outputs": [],
   "source": [
    "# Graphical representation of the critical flag\n",
    "my_data['CRITICAL FLAG'].hist(figsize=(15,4))\n",
    "plt.title('Histogram of the Critical Flag', fontsize = 15)\n",
    "plt.xlabel('Flag', fontsize = 12)"
   ]
  },
  {
   "cell_type": "code",
   "execution_count": null,
   "metadata": {},
   "outputs": [],
   "source": [
    "# Critical Flag by Borough\n",
    "pd.crosstab(my_data.BORO, my_data['CRITICAL FLAG']).plot(kind=\"bar\", figsize=(15,8), stacked=True)\n",
    "plt.title('Critical Flag by Borough', fontsize = 15)"
   ]
  },
  {
   "cell_type": "code",
   "execution_count": null,
   "metadata": {},
   "outputs": [],
   "source": [
    "# Critical Flag by Cuisine\n",
    "pd.crosstab(my_data['CUISINE DESCRIPTION'], my_data['CRITICAL FLAG']).plot(kind=\"bar\", figsize=(18,18), stacked=True)\n",
    "plt.title('Critical Flag by Cuisine', fontsize = 15)"
   ]
  },
  {
   "cell_type": "code",
   "execution_count": null,
   "metadata": {},
   "outputs": [],
   "source": [
    "# Let us look at the scores by critical flag\n",
    "score_flag = pd.concat([my_data['CRITICAL FLAG'], my_data['SCORE']], axis=1)\n",
    "f, ax = plt.subplots(figsize=(16, 8))\n",
    "fig = sns.boxplot(x = 'CRITICAL FLAG', y=\"SCORE\", my_data = score_flag)\n",
    "plt.title('Score by Critical Flag', fontsize = 15)\n",
    "plt.xticks(rotation=90);"
   ]
  },
  {
   "cell_type": "code",
   "execution_count": null,
   "metadata": {},
   "outputs": [],
   "source": [
    "my_data['INSPECTION TYPE'].value_counts()"
   ]
  },
  {
   "cell_type": "code",
   "execution_count": null,
   "metadata": {},
   "outputs": [],
   "source": [
    "import re\n",
    "from nltk.corpus import stopwords\n",
    "\n",
    "REPLACE_BY_SPACE_RE = re.compile('[/(){}\\[\\]\\|@,;]')\n",
    "BAD_SYMBOLS_RE = re.compile('[^0-9a-z #+_]')\n",
    "STOPWORDS = set(stopwords.words('english'))\n",
    "def text_prepare(text):\n",
    "    \"\"\"\n",
    "        text: a string\n",
    "        \n",
    "        return: modified initial string\n",
    "    \"\"\"\n",
    "    text = text.lower()# lowercase text  \n",
    "    text = REPLACE_BY_SPACE_RE.sub(' ',text)# replace REPLACE_BY_SPACE_RE symbols by space in text    \n",
    "    text = BAD_SYMBOLS_RE.sub('',text)# delete symbols which are in BAD_SYMBOLS_RE from text    \n",
    "    temp = [s.strip() for s in text.split() if s not in STOPWORDS]# delete stopwords from text\n",
    "    new_text = ''\n",
    "    for i in temp:\n",
    "        new_text +=i+' '\n",
    "    text = new_text\n",
    "    return text.strip()"
   ]
  },
  {
   "cell_type": "code",
   "execution_count": null,
   "metadata": {},
   "outputs": [],
   "source": [
    "# Let us create a word cloud for the violation description\n",
    "temp_data = my_data.dropna(subset=['VIOLATION DESCRIPTION'])\n",
    "# converting into lowercase\n",
    "temp_data['VIOLATION DESCRIPTION'] = temp_data['VIOLATION DESCRIPTION'].apply(lambda x: \" \".join(x.lower() for x in x.split()))\n",
    "temp_data['VIOLATION DESCRIPTION'] = temp_data['VIOLATION DESCRIPTION'].map(text_prepare)\n",
    "\n",
    "\n",
    "from wordcloud import WordCloud\n",
    "\n",
    "wordcloud = WordCloud(max_font_size=50, width=600, height=300).generate(' '.join(temp_data['VIOLATION DESCRIPTION'].values))\n",
    "plt.figure(figsize=(15,5))\n",
    "plt.imshow(wordcloud)\n",
    "plt.title(\"Top Words Used for the Violation Descriptions\", fontsize=25)\n",
    "plt.axis(\"off\")\n",
    "plt.show() "
   ]
  },
  {
   "cell_type": "markdown",
   "metadata": {},
   "source": [
    "Looking at the cloud above it seems as if most of the violaions are to do with nonfood contact and the surfaces the food is in contact with.\n",
    "\n",
    "Conclusions\n",
    "From looking at the variables above we can see some differences across the boroughs and also the cuisine. We can see that the action taken is also different depending on what the score of the inspection is, so if we were to build a prediction model to determine what action was to be taken it wold be important to include the score variable in that model I would think. There is more work to be done with this data."
   ]
  },
  {
   "cell_type": "code",
   "execution_count": null,
   "metadata": {},
   "outputs": [],
   "source": [
    "print('Null Variables: ', my_data.columns[my_data.isnull().any()].tolist())"
   ]
  },
  {
   "cell_type": "code",
   "execution_count": 39,
   "metadata": {},
   "outputs": [
    {
     "data": {
      "text/plain": [
       "<matplotlib.axes._subplots.AxesSubplot at 0x11cbf1c88>"
      ]
     },
     "execution_count": 39,
     "metadata": {},
     "output_type": "execute_result"
    },
    {
     "data": {
      "image/png": "[encoded data removed]",
      "text/plain": [
       "<Figure size 432x288 with 1 Axes>"
      ]
     },
     "metadata": {
      "needs_background": "light"
     },
     "output_type": "display_data"
    }
   ],
   "source": [
    "null_var = ['DBA', 'BUILDING', 'STREET', 'ZIPCODE', 'PHONE', 'ACTION',\n",
    "       'VIOLATION CODE', 'VIOLATION DESCRIPTION', 'SCORE', 'GRADE',\n",
    "       'GRADE DATE', 'INSPECTION TYPE']\n",
    "null_cnt = my_data[null_var].isnull().sum()\n",
    "null_cnt = null_cnt.to_frame()\n",
    "null_cnt.columns = ['null_sum']\n",
    "null_cnt['not_null'] = my_data.shape[0] - null_cnt['null_sum']\n",
    "null_cnt.plot.bar(stacked = True)"
   ]
  },
  {
   "cell_type": "code",
   "execution_count": 40,
   "metadata": {},
   "outputs": [
    {
     "data": {
      "text/plain": [
       "VIOLATION CODE            5848\n",
       "VIOLATION DESCRIPTION     7868\n",
       "SCORE                    19054\n",
       "dtype: int64"
      ]
     },
     "execution_count": 40,
     "metadata": {},
     "output_type": "execute_result"
    }
   ],
   "source": [
    "null_test = my_data.columns[my_data.columns.str.contains('LATION')].tolist()\n",
    "null_test2 = ['SCORE']\n",
    "my_data[null_test+null_test2].isnull().sum()"
   ]
  },
  {
   "cell_type": "code",
   "execution_count": 41,
   "metadata": {},
   "outputs": [
    {
     "data": {
      "image/png": "[encoded data removed]",
      "text/plain": [
       "<Figure size 864x288 with 2 Axes>"
      ]
     },
     "metadata": {
      "needs_background": "light"
     },
     "output_type": "display_data"
    }
   ],
   "source": [
    "local_lst = ['BORO','ZIPCODE']\n",
    "f = plt.figure(figsize = (12,4))\n",
    "\n",
    "tmp_null = my_data[null_test].isnull()\n",
    "tmp_null = (tmp_null.iloc[:,0] | tmp_null.iloc[:,1])\n",
    "\n",
    "ax = f.add_subplot(1,2,1)\n",
    "local = local_lst[0]\n",
    "tmp = my_data.loc[tmp_null, local].value_counts().to_frame()\n",
    "tmp2 = my_data.loc[:,local].value_counts().to_frame()\n",
    "null_ratio = (tmp/tmp2.loc[tmp.index,:])\n",
    "ax.scatter(x = np.arange(null_ratio.shape[0]) ,y = null_ratio.iloc[:,0], alpha = 0.5)\n",
    "ax.set_title(local)\n",
    "ax.set_ylabel('Null Probability')\n",
    "ax.set_xticklabels(['wow'] + tmp.index.tolist())\n",
    "ax.tick_params('x', rotation = 70)\n",
    "\n",
    "ax = f.add_subplot(1,2,2)\n",
    "local = local_lst[1]\n",
    "tmp = my_data.loc[tmp_null, local].value_counts().to_frame()\n",
    "tmp2 = my_data.loc[:,local].value_counts().to_frame()\n",
    "null_ratio = (tmp/tmp2.loc[tmp.index,:])\n",
    "ax.scatter(x = np.arange(null_ratio.shape[0]) ,y = null_ratio.iloc[:,0], alpha = 0.5)\n",
    "ax.set_title(local)\n",
    "ax.set_ylabel('Null Probability')\n",
    "ax.tick_params('x', rotation = 70)\n",
    "\n",
    "plt.show()\n"
   ]
  },
  {
   "cell_type": "code",
   "execution_count": 42,
   "metadata": {},
   "outputs": [
    {
     "data": {
      "text/plain": [
       "114"
      ]
     },
     "execution_count": 42,
     "metadata": {},
     "output_type": "execute_result"
    }
   ],
   "source": [
    "my_data.groupby('BORO')['BORO'].size()['Missing']"
   ]
  },
  {
   "cell_type": "code",
   "execution_count": 43,
   "metadata": {},
   "outputs": [],
   "source": [
    "my_data = my_data.loc[my_data.ZIPCODE.isin(null_ratio[null_ratio.sort_values('ZIPCODE') < 0.2].index),:]\n",
    "my_data = my_data.loc[(my_data.BORO != 'Missing'),:]"
   ]
  },
  {
   "cell_type": "code",
   "execution_count": 44,
   "metadata": {},
   "outputs": [
    {
     "data": {
      "text/plain": [
       "(378360, 18)"
      ]
     },
     "execution_count": 44,
     "metadata": {},
     "output_type": "execute_result"
    }
   ],
   "source": [
    "my_data.shape"
   ]
  },
  {
   "cell_type": "code",
   "execution_count": 45,
   "metadata": {},
   "outputs": [],
   "source": [
    "def level_code(row):\n",
    "    if type(row) == float: return 99, 'No'\n",
    "    return int(row[:2]), row[2]\n",
    "my_data['VIO_lvl'],my_data['VIO_type'] = zip(*my_data['VIOLATION CODE'].apply(lambda row: level_code(row)))\n",
    "#my_data['RECORD_DATE'] = pd.to_datetime(my_data['RECORD DATE'], format = '%m/%d/%Y', errors='coerce')\n",
    "my_data['INSPECTION_DATE'] = pd.to_datetime(my_data['INSPECTION DATE'], format = '%m/%d/%Y', errors='coerce')\n",
    "my_data['GRADE_DATE'] = pd.to_datetime(my_data['GRADE DATE'], format = '%m/%d/%Y', errors='coerce')\n",
    "my_data.drop(['RECORD DATE', 'INSPECTION DATE', 'GRADE DATE'], axis = 1, inplace = True)\n",
    "\n",
    "my_data.columns = ['_'.join(x.lower().split()) for x in my_data.columns]"
   ]
  },
  {
   "cell_type": "code",
   "execution_count": 46,
   "metadata": {},
   "outputs": [
    {
     "data": {
      "text/html": [
       "<div>\n",
       "<style scoped>\n",
       "    .dataframe tbody tr th:only-of-type {\n",
       "        vertical-align: middle;\n",
       "    }\n",
       "\n",
       "    .dataframe tbody tr th {\n",
       "        vertical-align: top;\n",
       "    }\n",
       "\n",
       "    .dataframe thead th {\n",
       "        text-align: right;\n",
       "    }\n",
       "</style>\n",
       "<table border=\"1\" class=\"dataframe\">\n",
       "  <thead>\n",
       "    <tr style=\"text-align: right;\">\n",
       "      <th>grade</th>\n",
       "      <th>A</th>\n",
       "      <th>B</th>\n",
       "      <th>C</th>\n",
       "      <th>P</th>\n",
       "      <th>Z</th>\n",
       "      <th>Not Yet Graded</th>\n",
       "    </tr>\n",
       "    <tr>\n",
       "      <th>action</th>\n",
       "      <th></th>\n",
       "      <th></th>\n",
       "      <th></th>\n",
       "      <th></th>\n",
       "      <th></th>\n",
       "      <th></th>\n",
       "    </tr>\n",
       "  </thead>\n",
       "  <tbody>\n",
       "    <tr>\n",
       "      <th>Establishment Closed by DOHMH.  Violations were cited in the following area(s) and those requiring immediate action were addressed.</th>\n",
       "      <td>0</td>\n",
       "      <td>0</td>\n",
       "      <td>5</td>\n",
       "      <td>0</td>\n",
       "      <td>0</td>\n",
       "      <td>131</td>\n",
       "    </tr>\n",
       "    <tr>\n",
       "      <th>Establishment re-closed by DOHMH</th>\n",
       "      <td>0</td>\n",
       "      <td>0</td>\n",
       "      <td>0</td>\n",
       "      <td>0</td>\n",
       "      <td>0</td>\n",
       "      <td>3</td>\n",
       "    </tr>\n",
       "    <tr>\n",
       "      <th>Establishment re-opened by DOHMH</th>\n",
       "      <td>5</td>\n",
       "      <td>4</td>\n",
       "      <td>709</td>\n",
       "      <td>2329</td>\n",
       "      <td>418</td>\n",
       "      <td>0</td>\n",
       "    </tr>\n",
       "    <tr>\n",
       "      <th>No violations were recorded at the time of this inspection.</th>\n",
       "      <td>631</td>\n",
       "      <td>0</td>\n",
       "      <td>0</td>\n",
       "      <td>0</td>\n",
       "      <td>0</td>\n",
       "      <td>13</td>\n",
       "    </tr>\n",
       "    <tr>\n",
       "      <th>Violations were cited in the following area(s).</th>\n",
       "      <td>150521</td>\n",
       "      <td>24144</td>\n",
       "      <td>7079</td>\n",
       "      <td>0</td>\n",
       "      <td>3577</td>\n",
       "      <td>1422</td>\n",
       "    </tr>\n",
       "  </tbody>\n",
       "</table>\n",
       "</div>"
      ],
      "text/plain": [
       "grade                                                    A      B     C     P  \\\n",
       "action                                                                          \n",
       "Establishment Closed by DOHMH.  Violations were...       0      0     5     0   \n",
       "Establishment re-closed by DOHMH                         0      0     0     0   \n",
       "Establishment re-opened by DOHMH                         5      4   709  2329   \n",
       "No violations were recorded at the time of this...     631      0     0     0   \n",
       "Violations were cited in the following area(s).     150521  24144  7079     0   \n",
       "\n",
       "grade                                                  Z  Not Yet Graded  \n",
       "action                                                                    \n",
       "Establishment Closed by DOHMH.  Violations were...     0             131  \n",
       "Establishment re-closed by DOHMH                       0               3  \n",
       "Establishment re-opened by DOHMH                     418               0  \n",
       "No violations were recorded at the time of this...     0              13  \n",
       "Violations were cited in the following area(s).     3577            1422  "
      ]
     },
     "execution_count": 46,
     "metadata": {},
     "output_type": "execute_result"
    }
   ],
   "source": [
    "tmp_tab = pd.crosstab(my_data['action'], my_data['grade'])\n",
    "tmp_tab[['A', 'B', 'C', 'P', 'Z', 'Not Yet Graded']]"
   ]
  },
  {
   "cell_type": "code",
   "execution_count": 47,
   "metadata": {},
   "outputs": [
    {
     "data": {
      "image/png": "[encoded data removed]",
      "text/plain": [
       "<Figure size 864x288 with 2 Axes>"
      ]
     },
     "metadata": {
      "needs_background": "light"
     },
     "output_type": "display_data"
    }
   ],
   "source": [
    "f = plt.figure(figsize = (12,4))\n",
    "ax = f.add_subplot(1,2,1)\n",
    "tmp_tab = pd.crosstab(my_data['critical_flag'], my_data['grade'])\n",
    "tmp_crit = tmp_tab[['A', 'B', 'C', 'P', 'Z', 'Not Yet Graded']].T\n",
    "tmp_crit.plot.bar(stacked = True, ax = ax)\n",
    "ax.set_title('Stacked Critical Flag')\n",
    "ax.set_xlabel('Grade')\n",
    "\n",
    "sum_ = tmp_crit.sum(axis = 1)\n",
    "for col in tmp_crit.columns:\n",
    "    tmp_crit[col] = tmp_crit[col].divide(sum_)\n",
    "ax = f.add_subplot(1,2,2)\n",
    "tmp_crit.plot.bar(stacked = True, ax = ax)\n",
    "ax.set_title('Stacked Ratio Critical Flag')\n",
    "ax.set_xlabel('Grade')\n",
    "\n",
    "plt.show()"
   ]
  },
  {
   "cell_type": "code",
   "execution_count": 48,
   "metadata": {},
   "outputs": [
    {
     "name": "stderr",
     "output_type": "stream",
     "text": [
      "/anaconda3/lib/python3.7/site-packages/scipy/stats/stats.py:1713: FutureWarning: Using a non-tuple sequence for multidimensional indexing is deprecated; use `arr[tuple(seq)]` instead of `arr[seq]`. In the future this will be interpreted as an array index, `arr[np.array(seq)]`, which will result either in an error or a different result.\n",
      "  return np.add.reduce(sorted[indexer] * weights, axis=axis) / sumval\n"
     ]
    },
    {
     "data": {
      "image/png": "[encoded data removed]",
      "text/plain": [
       "<Figure size 864x576 with 3 Axes>"
      ]
     },
     "metadata": {
      "needs_background": "light"
     },
     "output_type": "display_data"
    }
   ],
   "source": [
    "f = plt.figure(figsize = (12,8))\n",
    "ax = plt.subplot2grid((2,4), (0,0), colspan = 3)\n",
    "sns.distplot(my_data.vio_lvl.loc[my_data.critical_flag == 'Critical'], ax = ax, kde = False, color = 'r', label = 'Critical')\n",
    "sns.distplot(my_data.vio_lvl.loc[my_data.critical_flag == 'Not Critical'], ax = ax, kde = False, color = 'b', label = 'Not Critical')\n",
    "ax.set_title('Violation lvl of Critical Lvl')\n",
    "ax.legend()\n",
    "ax = plt.subplot2grid((2,4), (0,3))\n",
    "sns.distplot(my_data.vio_lvl.loc[my_data.critical_flag == 'Not Applicable'], ax = ax, kde = False, color = 'g', label = 'Not Applicable')\n",
    "ax.set_title('Violation lvl of Not Applicable')\n",
    "ax.legend()\n",
    "\n",
    "ax = plt.subplot2grid((2,4), (1,0), colspan = 4)\n",
    "tmp_type = my_data[['critical_flag', 'vio_type']].groupby(['critical_flag', 'vio_type']).size().to_frame().reset_index()\n",
    "tmp_type = tmp_type.pivot('critical_flag', 'vio_type').fillna(0)\n",
    "tmp_type.columns = tmp_type.columns.droplevel(0)\n",
    "tmp_type = tmp_type.T\n",
    "sum_type = tmp_type.sum(axis = 1)\n",
    "for col in tmp_type.columns:\n",
    "    tmp_type[col] = tmp_type[col].divide(sum_type)\n",
    "tmp_type.sort_values('Not Critical').plot.bar(stacked = True, ax = ax)\n",
    "ax.set_title('Vio Type of Critical Flag')\n",
    "\n",
    "plt.subplots_adjust(wspace = 0.3, hspace = 0.4)\n",
    "plt.show()"
   ]
  },
  {
   "cell_type": "code",
   "execution_count": 49,
   "metadata": {},
   "outputs": [
    {
     "name": "stdout",
     "output_type": "stream",
     "text": [
      "OMN\n",
      "4    28711\n",
      "Name: vio_lvl, dtype: int64\n",
      "KL\n",
      "4     30215\n",
      "15     1890\n",
      "Name: vio_lvl, dtype: int64\n"
     ]
    }
   ],
   "source": [
    "print('OMN')\n",
    "print(my_data.loc[my_data.vio_type.isin(('O', 'M', 'N')), 'vio_lvl'].value_counts())\n",
    "print('KL')\n",
    "print(my_data.loc[my_data.vio_type.isin(('K', 'L')), 'vio_lvl'].value_counts())"
   ]
  },
  {
   "cell_type": "code",
   "execution_count": 50,
   "metadata": {},
   "outputs": [
    {
     "data": {
      "text/html": [
       "<div>\n",
       "<style scoped>\n",
       "    .dataframe tbody tr th:only-of-type {\n",
       "        vertical-align: middle;\n",
       "    }\n",
       "\n",
       "    .dataframe tbody tr th {\n",
       "        vertical-align: top;\n",
       "    }\n",
       "\n",
       "    .dataframe thead th {\n",
       "        text-align: right;\n",
       "    }\n",
       "</style>\n",
       "<table border=\"1\" class=\"dataframe\">\n",
       "  <thead>\n",
       "    <tr style=\"text-align: right;\">\n",
       "      <th>vio_type</th>\n",
       "      <th>A</th>\n",
       "      <th>B</th>\n",
       "      <th>C</th>\n",
       "      <th>D</th>\n",
       "      <th>E</th>\n",
       "      <th>F</th>\n",
       "      <th>G</th>\n",
       "      <th>H</th>\n",
       "      <th>I</th>\n",
       "      <th>J</th>\n",
       "      <th>K</th>\n",
       "      <th>L</th>\n",
       "      <th>M</th>\n",
       "      <th>N</th>\n",
       "      <th>No</th>\n",
       "      <th>O</th>\n",
       "      <th>S</th>\n",
       "      <th>T</th>\n",
       "    </tr>\n",
       "  </thead>\n",
       "  <tbody>\n",
       "    <tr>\n",
       "      <th>vio_lvl</th>\n",
       "      <td>15</td>\n",
       "      <td>12</td>\n",
       "      <td>11</td>\n",
       "      <td>9</td>\n",
       "      <td>10</td>\n",
       "      <td>11</td>\n",
       "      <td>8</td>\n",
       "      <td>5</td>\n",
       "      <td>5</td>\n",
       "      <td>4</td>\n",
       "      <td>2</td>\n",
       "      <td>2</td>\n",
       "      <td>1</td>\n",
       "      <td>1</td>\n",
       "      <td>1</td>\n",
       "      <td>1</td>\n",
       "      <td>1</td>\n",
       "      <td>1</td>\n",
       "    </tr>\n",
       "  </tbody>\n",
       "</table>\n",
       "</div>"
      ],
      "text/plain": [
       "vio_type   A   B   C  D   E   F  G  H  I  J  K  L  M  N  No  O  S  T\n",
       "vio_lvl   15  12  11  9  10  11  8  5  5  4  2  2  1  1   1  1  1  1"
      ]
     },
     "execution_count": 50,
     "metadata": {},
     "output_type": "execute_result"
    }
   ],
   "source": [
    "tmp_cnt =my_data.groupby(['vio_type']).agg({'vio_lvl': pd.Series.nunique}).sort_values('vio_lvl').T\n",
    "tmp_cnt[sorted(tmp_cnt.columns, reverse = False)]"
   ]
  },
  {
   "cell_type": "code",
   "execution_count": null,
   "metadata": {},
   "outputs": [],
   "source": []
  },
  {
   "cell_type": "code",
   "execution_count": null,
   "metadata": {},
   "outputs": [],
   "source": []
  }
 ],
 "metadata": {
  "kernelspec": {
   "display_name": "Python 3",
   "language": "python",
   "name": "python3"
  },
  "language_info": {
   "codemirror_mode": {
    "name": "ipython",
    "version": 3
   },
   "file_extension": ".py",
   "mimetype": "text/x-python",
   "name": "python",
   "nbconvert_exporter": "python",
   "pygments_lexer": "ipython3",
   "version": "3.7.0"
  }
 },
 "nbformat": 4,
 "nbformat_minor": 2
}
